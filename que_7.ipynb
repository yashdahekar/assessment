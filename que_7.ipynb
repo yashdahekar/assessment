{
 "cells": [
  {
   "cell_type": "code",
   "execution_count": 4,
   "metadata": {},
   "outputs": [],
   "source": [
    "# Perform Below Listed Preprocessing Task in proper order as per your dataset using torch or tensorflow.\n",
    "# Emoji Removal \n",
    "# Lemmatization \n",
    "# Stemming \n",
    "# Word Tokenization \n",
    "# Grammar Correction\n",
    "# Http Links Removal \n",
    "# Stop Words Removal\n",
    "# Sentence Tokenization \n",
    "# Lower casing\n",
    "#  Remove white spaces\n",
    "# Text Normalization\n",
    "# Part of speech tagging"
   ]
  },
  {
   "cell_type": "code",
   "execution_count": 5,
   "metadata": {},
   "outputs": [],
   "source": [
    "import re\n",
    "import string\n",
    "import nltk\n",
    "from nltk.tokenize import word_tokenize, sent_tokenize\n",
    "from nltk.corpus import stopwords\n",
    "from nltk.stem import PorterStemmer, WordNetLemmatizer\n",
    "from textblob import TextBlob"
   ]
  },
  {
   "cell_type": "code",
   "execution_count": 8,
   "metadata": {},
   "outputs": [
    {
     "name": "stderr",
     "output_type": "stream",
     "text": [
      "[nltk_data] Downloading package punkt to\n",
      "[nltk_data]     C:\\Users\\yashd\\AppData\\Roaming\\nltk_data...\n",
      "[nltk_data]   Package punkt is already up-to-date!\n",
      "[nltk_data] Downloading package averaged_perceptron_tagger to\n",
      "[nltk_data]     C:\\Users\\yashd\\AppData\\Roaming\\nltk_data...\n",
      "[nltk_data]   Unzipping taggers\\averaged_perceptron_tagger.zip.\n",
      "[nltk_data] Downloading package stopwords to\n",
      "[nltk_data]     C:\\Users\\yashd\\AppData\\Roaming\\nltk_data...\n",
      "[nltk_data]   Package stopwords is already up-to-date!\n"
     ]
    },
    {
     "data": {
      "text/plain": [
       "True"
      ]
     },
     "execution_count": 8,
     "metadata": {},
     "output_type": "execute_result"
    }
   ],
   "source": [
    "nltk.download('punkt')\n",
    "nltk.download('averaged_perceptron_tagger')\n",
    "nltk.download('stopwords')"
   ]
  },
  {
   "cell_type": "code",
   "execution_count": 9,
   "metadata": {},
   "outputs": [],
   "source": [
    "text_data = \"Your text data goes here.\"\n",
    "\n",
    "text_data = text_data.encode('ascii', 'ignore').decode('ascii')\n",
    "\n",
    "text_data = re.sub(r'http\\S+', '', text_data)\n",
    "\n",
    "#Lower casing\n",
    "text_data = text_data.lower()\n",
    "\n",
    "#Remove white spaces\n",
    "text_data = ' '.join(text_data.split())\n",
    "\n",
    "# Word Tokenization\n",
    "words = word_tokenize(text_data)\n",
    "\n",
    "#Sentence Tokenization\n",
    "sentences = sent_tokenize(text_data)\n",
    "\n",
    "#Part of speech tagging\n",
    "pos_tags = nltk.pos_tag(words)\n",
    "\n",
    "stop_words = set(stopwords.words('english'))\n",
    "filtered_words = [word for word in words if word not in stop_words]\n",
    "\n",
    "stemmer = PorterStemmer()\n",
    "stemmed_words = [stemmer.stem(word) for word in filtered_words]\n",
    "\n",
    "lemmatizer = WordNetLemmatizer()\n",
    "lemmatized_words = [lemmatizer.lemmatize(word) for word in filtered_words]\n",
    "\n",
    "corrected_text = str(TextBlob(text_data).correct())"
   ]
  },
  {
   "cell_type": "code",
   "execution_count": 10,
   "metadata": {},
   "outputs": [
    {
     "name": "stdout",
     "output_type": "stream",
     "text": [
      "Original Text: your text data goes here.\n",
      "Emoji Removed Text: your text data goes here.\n",
      "Http Links Removed Text: your text data goes here.\n",
      "Lowercased Text: your text data goes here.\n",
      "Text with White Spaces Removed: your text data goes here.\n",
      "Word Tokenization: ['your', 'text', 'data', 'goes', 'here', '.']\n",
      "Sentence Tokenization: ['your text data goes here.']\n",
      "Part of Speech Tagging: [('your', 'PRP$'), ('text', 'NN'), ('data', 'NN'), ('goes', 'VBZ'), ('here', 'RB'), ('.', '.')]\n",
      "Stop Words Removed: ['text', 'data', 'goes', '.']\n",
      "Stemming: ['text', 'data', 'goe', '.']\n",
      "Lemmatization: ['text', 'data', 'go', '.']\n",
      "Grammr Corrected Text: your text data goes here.\n"
     ]
    }
   ],
   "source": [
    "\n",
    "print(\"Original Text:\", text_data)\n",
    "print(\"Emoji Removed Text:\", text_data)\n",
    "print(\"Http Links Removed Text:\", text_data)\n",
    "print(\"Lowercased Text:\", text_data)\n",
    "print(\"Text with White Spaces Removed:\", text_data)\n",
    "print(\"Word Tokenization:\", words)\n",
    "print(\"Sentence Tokenization:\", sentences)\n",
    "print(\"Part of Speech Tagging:\", pos_tags)\n",
    "print(\"Stop Words Removed:\", filtered_words)\n",
    "print(\"Stemming:\", stemmed_words)\n",
    "print(\"Lemmatization:\", lemmatized_words)\n",
    "print(\"Grammr Corrected Text:\", corrected_text)"
   ]
  },
  {
   "cell_type": "code",
   "execution_count": null,
   "metadata": {},
   "outputs": [],
   "source": []
  }
 ],
 "metadata": {
  "kernelspec": {
   "display_name": "base",
   "language": "python",
   "name": "python3"
  },
  "language_info": {
   "codemirror_mode": {
    "name": "ipython",
    "version": 3
   },
   "file_extension": ".py",
   "mimetype": "text/x-python",
   "name": "python",
   "nbconvert_exporter": "python",
   "pygments_lexer": "ipython3",
   "version": "3.11.5"
  }
 },
 "nbformat": 4,
 "nbformat_minor": 2
}
