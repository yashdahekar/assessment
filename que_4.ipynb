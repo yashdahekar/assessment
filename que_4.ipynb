{
 "cells": [
  {
   "cell_type": "code",
   "execution_count": null,
   "metadata": {},
   "outputs": [],
   "source": [
    "# 1 Explain how you can implement ML in a real world application"
   ]
  },
  {
   "cell_type": "code",
   "execution_count": null,
   "metadata": {},
   "outputs": [],
   "source": [
    "\n",
    "\"\"\"\n",
    "applying machine learning in real-world applications involves many steps including data collection, pre-processing, model selection, training, analysis, and deployment.\n",
    "let's go through steps for Bangalore housing dataset\n",
    "example:\n",
    "\n",
    "1. summary:\n",
    "the first step is to compile a dataset containing Bangalore housing information this dataset can be accessed from various sources such as real estate websites, government databases, or APIs. but we have dataset available in csv formate\n",
    "\n",
    "2. EDA:\n",
    "perform an EDA to understand the structure and quality of the dataset. this includes:\n",
    "\n",
    "data sets and their types (numeric, categorical) search features.\n",
    "ensure that missing values ​​are handled properly (e.g. imputation).\n",
    "visualization of distributions and correlations using plots (histograms, scatter plots, etc.).\n",
    "identify outliers and decide how to deal with them.\n",
    "3. key technologies:\n",
    "feature engineering involves creating new features or modifying existing features to improve model performance. common methods include:\n",
    "\n",
    "handling of classification changes (encoding, single hot encoding).\n",
    "scaling to the same numeric factors (min-max scaling, standardization).\n",
    "developing new products based on domain knowledge or product interactions.\n",
    "4. model selection:\n",
    "select the appropriate machine learning model for the regression task. for the Bangalore building dataset, we can use support vector machine (svm) regression due to its ability to handle non-linear relationships and high-dimensional data.\n",
    "\n",
    "5. model training:\n",
    "divide the dataset into training and testing sets. then, use the training data to train the svm regressor. during training, the model learns the relationship between inputs (e.g. field t.).\n",
    "\"\"\""
   ]
  },
  {
   "cell_type": "code",
   "execution_count": null,
   "metadata": {},
   "outputs": [],
   "source": []
  }
 ],
 "metadata": {
  "language_info": {
   "name": "python"
  }
 },
 "nbformat": 4,
 "nbformat_minor": 2
}
