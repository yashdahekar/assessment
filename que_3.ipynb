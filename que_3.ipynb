{
 "cells": [
  {
   "cell_type": "code",
   "execution_count": 2,
   "metadata": {},
   "outputs": [],
   "source": [
    "# 1. Imagine you have a dataset where you have different Instagram features like u sername , Caption , Hashtag , Followers , Time_Since_posted , and likes , now your task is to predict the number of likes and Time Since posted and the rest of the features are your input features. Now you have to build a model which can predict the number of likes and Time Since posted."
   ]
  },
  {
   "cell_type": "code",
   "execution_count": 30,
   "metadata": {},
   "outputs": [],
   "source": [
    "import pandas as pd\n",
    "import numpy as np\n",
    "from sklearn.model_selection import train_test_split\n",
    "from sklearn.ensemble import RandomForestRegressor\n",
    "from sklearn.metrics import mean_squared_error"
   ]
  },
  {
   "cell_type": "code",
   "execution_count": 31,
   "metadata": {},
   "outputs": [],
   "source": [
    "data = pd.read_csv(\"instagram_reach.csv\") "
   ]
  },
  {
   "cell_type": "code",
   "execution_count": 32,
   "metadata": {},
   "outputs": [
    {
     "data": {
      "text/html": [
       "<div>\n",
       "<style scoped>\n",
       "    .dataframe tbody tr th:only-of-type {\n",
       "        vertical-align: middle;\n",
       "    }\n",
       "\n",
       "    .dataframe tbody tr th {\n",
       "        vertical-align: top;\n",
       "    }\n",
       "\n",
       "    .dataframe thead th {\n",
       "        text-align: right;\n",
       "    }\n",
       "</style>\n",
       "<table border=\"1\" class=\"dataframe\">\n",
       "  <thead>\n",
       "    <tr style=\"text-align: right;\">\n",
       "      <th></th>\n",
       "      <th>Unnamed: 0</th>\n",
       "      <th>S.No</th>\n",
       "      <th>USERNAME</th>\n",
       "      <th>Caption</th>\n",
       "      <th>Followers</th>\n",
       "      <th>Hashtags</th>\n",
       "      <th>Time since posted</th>\n",
       "      <th>Likes</th>\n",
       "    </tr>\n",
       "  </thead>\n",
       "  <tbody>\n",
       "    <tr>\n",
       "      <th>59</th>\n",
       "      <td>20</td>\n",
       "      <td>28</td>\n",
       "      <td>mikequindazzi</td>\n",
       "      <td>8.5 billion more #smartphones by 2021 will hel...</td>\n",
       "      <td>4496</td>\n",
       "      <td>#DeepLearning #MachineLearning#ArtificialIntel...</td>\n",
       "      <td>2 hours</td>\n",
       "      <td>11</td>\n",
       "    </tr>\n",
       "    <tr>\n",
       "      <th>44</th>\n",
       "      <td>5</td>\n",
       "      <td>13</td>\n",
       "      <td>interwall</td>\n",
       "      <td>CEBIT 2018: Europas Business-Festival für Inno...</td>\n",
       "      <td>118</td>\n",
       "      <td>#cebit18 #cebit #hannover #cebit2018#ceyouinab...</td>\n",
       "      <td>2 hours</td>\n",
       "      <td>16</td>\n",
       "    </tr>\n",
       "    <tr>\n",
       "      <th>56</th>\n",
       "      <td>17</td>\n",
       "      <td>25</td>\n",
       "      <td>big.data.hush</td>\n",
       "      <td>Recently, computer scientists have been workin...</td>\n",
       "      <td>530</td>\n",
       "      <td>#bitcoin #ethereum #BTC#fun #Profit #success #...</td>\n",
       "      <td>2 hours</td>\n",
       "      <td>17</td>\n",
       "    </tr>\n",
       "    <tr>\n",
       "      <th>10</th>\n",
       "      <td>10</td>\n",
       "      <td>11</td>\n",
       "      <td>databowl</td>\n",
       "      <td>Today we are featured in The Future CMO Magazi...</td>\n",
       "      <td>149</td>\n",
       "      <td>#artificialintelligence #futurism#machinelearn...</td>\n",
       "      <td>7 hours</td>\n",
       "      <td>31</td>\n",
       "    </tr>\n",
       "    <tr>\n",
       "      <th>67</th>\n",
       "      <td>5</td>\n",
       "      <td>17</td>\n",
       "      <td>remi_ole</td>\n",
       "      <td>NaN</td>\n",
       "      <td>2175</td>\n",
       "      <td>#entrepreneur #entrepreneurial#entrepreneurmin...</td>\n",
       "      <td>2 hours</td>\n",
       "      <td>41</td>\n",
       "    </tr>\n",
       "  </tbody>\n",
       "</table>\n",
       "</div>"
      ],
      "text/plain": [
       "    Unnamed: 0  S.No       USERNAME  \\\n",
       "59          20    28  mikequindazzi   \n",
       "44           5    13      interwall   \n",
       "56          17    25  big.data.hush   \n",
       "10          10    11       databowl   \n",
       "67           5    17       remi_ole   \n",
       "\n",
       "                                              Caption  Followers  \\\n",
       "59  8.5 billion more #smartphones by 2021 will hel...       4496   \n",
       "44  CEBIT 2018: Europas Business-Festival für Inno...        118   \n",
       "56  Recently, computer scientists have been workin...        530   \n",
       "10  Today we are featured in The Future CMO Magazi...        149   \n",
       "67                                                NaN       2175   \n",
       "\n",
       "                                             Hashtags Time since posted  Likes  \n",
       "59  #DeepLearning #MachineLearning#ArtificialIntel...           2 hours     11  \n",
       "44  #cebit18 #cebit #hannover #cebit2018#ceyouinab...           2 hours     16  \n",
       "56  #bitcoin #ethereum #BTC#fun #Profit #success #...           2 hours     17  \n",
       "10  #artificialintelligence #futurism#machinelearn...           7 hours     31  \n",
       "67  #entrepreneur #entrepreneurial#entrepreneurmin...           2 hours     41  "
      ]
     },
     "execution_count": 32,
     "metadata": {},
     "output_type": "execute_result"
    }
   ],
   "source": [
    "data.sample(5)"
   ]
  },
  {
   "cell_type": "code",
   "execution_count": 33,
   "metadata": {},
   "outputs": [],
   "source": [
    "data.drop('Caption', axis=1, inplace=True)"
   ]
  },
  {
   "cell_type": "code",
   "execution_count": 34,
   "metadata": {},
   "outputs": [],
   "source": [
    "data['Time since posted'] = data['Time since posted'].str.extract('(\\d+)').astype(int)\n"
   ]
  },
  {
   "cell_type": "code",
   "execution_count": 35,
   "metadata": {},
   "outputs": [
    {
     "data": {
      "text/html": [
       "<div>\n",
       "<style scoped>\n",
       "    .dataframe tbody tr th:only-of-type {\n",
       "        vertical-align: middle;\n",
       "    }\n",
       "\n",
       "    .dataframe tbody tr th {\n",
       "        vertical-align: top;\n",
       "    }\n",
       "\n",
       "    .dataframe thead th {\n",
       "        text-align: right;\n",
       "    }\n",
       "</style>\n",
       "<table border=\"1\" class=\"dataframe\">\n",
       "  <thead>\n",
       "    <tr style=\"text-align: right;\">\n",
       "      <th></th>\n",
       "      <th>Unnamed: 0</th>\n",
       "      <th>S.No</th>\n",
       "      <th>USERNAME</th>\n",
       "      <th>Followers</th>\n",
       "      <th>Hashtags</th>\n",
       "      <th>Time since posted</th>\n",
       "      <th>Likes</th>\n",
       "    </tr>\n",
       "  </thead>\n",
       "  <tbody>\n",
       "    <tr>\n",
       "      <th>42</th>\n",
       "      <td>3</td>\n",
       "      <td>11</td>\n",
       "      <td>hollympeck</td>\n",
       "      <td>273</td>\n",
       "      <td>#artificialintelligence</td>\n",
       "      <td>2</td>\n",
       "      <td>41</td>\n",
       "    </tr>\n",
       "    <tr>\n",
       "      <th>18</th>\n",
       "      <td>18</td>\n",
       "      <td>23</td>\n",
       "      <td>amjstaffing</td>\n",
       "      <td>75</td>\n",
       "      <td>#engineer #machinelearning #automotive#automat...</td>\n",
       "      <td>4</td>\n",
       "      <td>30</td>\n",
       "    </tr>\n",
       "    <tr>\n",
       "      <th>72</th>\n",
       "      <td>10</td>\n",
       "      <td>25</td>\n",
       "      <td>kamalalshehabi</td>\n",
       "      <td>955</td>\n",
       "      <td>#qoute #success#motivation #entrepreneur #insp...</td>\n",
       "      <td>2</td>\n",
       "      <td>20</td>\n",
       "    </tr>\n",
       "    <tr>\n",
       "      <th>73</th>\n",
       "      <td>0</td>\n",
       "      <td>5</td>\n",
       "      <td>bitcoinebook</td>\n",
       "      <td>2372</td>\n",
       "      <td>#bitcoinsuperstar #tonylocorriere#blockchain #...</td>\n",
       "      <td>2</td>\n",
       "      <td>10</td>\n",
       "    </tr>\n",
       "    <tr>\n",
       "      <th>60</th>\n",
       "      <td>21</td>\n",
       "      <td>29</td>\n",
       "      <td>roland.busch</td>\n",
       "      <td>145</td>\n",
       "      <td>#Innovation in #Connectivity #EdgeDevices#Ener...</td>\n",
       "      <td>2</td>\n",
       "      <td>16</td>\n",
       "    </tr>\n",
       "  </tbody>\n",
       "</table>\n",
       "</div>"
      ],
      "text/plain": [
       "    Unnamed: 0  S.No        USERNAME  Followers  \\\n",
       "42           3    11      hollympeck        273   \n",
       "18          18    23     amjstaffing         75   \n",
       "72          10    25  kamalalshehabi        955   \n",
       "73           0     5    bitcoinebook       2372   \n",
       "60          21    29    roland.busch        145   \n",
       "\n",
       "                                             Hashtags  Time since posted  \\\n",
       "42                            #artificialintelligence                  2   \n",
       "18  #engineer #machinelearning #automotive#automat...                  4   \n",
       "72  #qoute #success#motivation #entrepreneur #insp...                  2   \n",
       "73  #bitcoinsuperstar #tonylocorriere#blockchain #...                  2   \n",
       "60  #Innovation in #Connectivity #EdgeDevices#Ener...                  2   \n",
       "\n",
       "    Likes  \n",
       "42     41  \n",
       "18     30  \n",
       "72     20  \n",
       "73     10  \n",
       "60     16  "
      ]
     },
     "execution_count": 35,
     "metadata": {},
     "output_type": "execute_result"
    }
   ],
   "source": [
    "data.sample(5)"
   ]
  },
  {
   "cell_type": "code",
   "execution_count": 36,
   "metadata": {},
   "outputs": [
    {
     "data": {
      "text/plain": [
       "Unnamed: 0           0\n",
       "S.No                 0\n",
       "USERNAME             0\n",
       "Followers            0\n",
       "Hashtags             0\n",
       "Time since posted    0\n",
       "Likes                0\n",
       "dtype: int64"
      ]
     },
     "execution_count": 36,
     "metadata": {},
     "output_type": "execute_result"
    }
   ],
   "source": [
    "data.isnull().sum()"
   ]
  },
  {
   "cell_type": "code",
   "execution_count": 37,
   "metadata": {},
   "outputs": [],
   "source": [
    "data.dropna(inplace=True)\n"
   ]
  },
  {
   "cell_type": "code",
   "execution_count": 38,
   "metadata": {},
   "outputs": [
    {
     "data": {
      "text/plain": [
       "Unnamed: 0           0\n",
       "S.No                 0\n",
       "USERNAME             0\n",
       "Followers            0\n",
       "Hashtags             0\n",
       "Time since posted    0\n",
       "Likes                0\n",
       "dtype: int64"
      ]
     },
     "execution_count": 38,
     "metadata": {},
     "output_type": "execute_result"
    }
   ],
   "source": [
    "data.isnull().sum()"
   ]
  },
  {
   "cell_type": "code",
   "execution_count": 43,
   "metadata": {},
   "outputs": [],
   "source": [
    "X = data[['Followers', ]]\n",
    "y_likes = data['Likes']\n",
    "y_time_since_posted = data['Time since posted']"
   ]
  },
  {
   "cell_type": "code",
   "execution_count": 44,
   "metadata": {},
   "outputs": [],
   "source": [
    "#Spliting data into train and test sets\n",
    "X_train, X_test, y_likes_train, y_likes_test, y_time_train, y_time_test = train_test_split(X, y_likes, y_time_since_posted, test_size=0.2, random_state=42)"
   ]
  },
  {
   "cell_type": "code",
   "execution_count": 45,
   "metadata": {},
   "outputs": [],
   "source": [
    "rf_likes = RandomForestRegressor()\n",
    "rf_likes.fit(X_train, y_likes_train)\n",
    "likes_predictions = rf_likes.predict(X_test)\n",
    "\n",
    "rf_time = RandomForestRegressor()\n",
    "rf_time.fit(X_train, y_time_train)\n",
    "time_predictions = rf_time.predict(X_test)"
   ]
  },
  {
   "cell_type": "code",
   "execution_count": 46,
   "metadata": {},
   "outputs": [
    {
     "name": "stdout",
     "output_type": "stream",
     "text": [
      "mean squared error of Likes: 395.4471914111112\n",
      "mean squared error of Time since posted: 5.349185075\n"
     ]
    }
   ],
   "source": [
    "\n",
    "likes_mse = mean_squared_error(y_likes_test, likes_predictions)\n",
    "time_mse = mean_squared_error(y_time_test, time_predictions)\n",
    "\n",
    "print(\"mean squared error of Likes:\", likes_mse)\n",
    "print(\"mean squared error of Time since posted:\", time_mse)"
   ]
  }
 ],
 "metadata": {
  "kernelspec": {
   "display_name": "base",
   "language": "python",
   "name": "python3"
  },
  "language_info": {
   "codemirror_mode": {
    "name": "ipython",
    "version": 3
   },
   "file_extension": ".py",
   "mimetype": "text/x-python",
   "name": "python",
   "nbconvert_exporter": "python",
   "pygments_lexer": "ipython3",
   "version": "3.11.5"
  }
 },
 "nbformat": 4,
 "nbformat_minor": 2
}
